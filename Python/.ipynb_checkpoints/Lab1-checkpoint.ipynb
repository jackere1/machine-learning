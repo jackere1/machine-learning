{
 "cells": [
  {
   "cell_type": "code",
   "execution_count": 26,
   "id": "861ee998",
   "metadata": {},
   "outputs": [
    {
     "name": "stdout",
     "output_type": "stream",
     "text": [
      "5\n"
     ]
    }
   ],
   "source": [
    "myList = [\"machine\", \"learning\", 0, 0, 2, 2, \"machine\", \"learning\", \"and\", \"learning\"]\n",
    "mySet = set(myList)\n",
    "print(len(mySet))"
   ]
  },
  {
   "cell_type": "code",
   "execution_count": 25,
   "id": "280f2c0c",
   "metadata": {},
   "outputs": [
    {
     "name": "stdout",
     "output_type": "stream",
     "text": [
      "apple apple ham machine echo machine learn learn apple\n",
      "{'learn': 2, 'ham': 1, 'apple': 3, 'echo': 1, 'machine': 2}\n"
     ]
    }
   ],
   "source": [
    "myDict = {}\n",
    "words = input().split(\" \")\n",
    "mySet = set(words);\n",
    "for key in mySet:\n",
    "    myDict[key] = words.count(key)\n",
    "print(myDict)"
   ]
  },
  {
   "cell_type": "code",
   "execution_count": 28,
   "id": "0daff8bc",
   "metadata": {},
   "outputs": [
    {
     "name": "stdout",
     "output_type": "stream",
     "text": [
      "machinexyzlearning\n",
      "learning xyz machine\n"
     ]
    }
   ],
   "source": [
    "strList = [\"machinexyzlearning\", \"machine learning\", \"learning machine\", \"learning xyz machine\"]\n",
    "for i in strList:\n",
    "    if \"xyz\" in i:\n",
    "        print(i)"
   ]
  },
  {
   "cell_type": "code",
   "execution_count": 30,
   "id": "5555f586",
   "metadata": {},
   "outputs": [
    {
     "name": "stdout",
     "output_type": "stream",
     "text": [
      "learning xyz\n",
      "xyzlearning machine\n"
     ]
    }
   ],
   "source": [
    "strList = [\"machinexyzlearning\", \"machine learning\", \"learning xyz\", \"xyzlearning machine\", \"test xyz test\"]\n",
    "for str in strList:\n",
    "    if str.startswith(\"xyz\") or str.endswith(\"xyz\"):\n",
    "        print(str)"
   ]
  },
  {
   "cell_type": "code",
   "execution_count": 38,
   "id": "97a908d1",
   "metadata": {},
   "outputs": [
    {
     "name": "stdout",
     "output_type": "stream",
     "text": [
      "[2, 3, 5, 7, 11, 13, 17, 19, 23, 29, 31, 37, 41, 43, 47, 53, 59, 61, 67, 71, 73, 79, 83, 89, 97, 101, 103, 107, 109, 113, 127, 131, 137, 139, 149, 151, 157, 163, 167, 173, 179, 181, 191, 193, 197, 199, 211, 223, 227, 229]\n"
     ]
    }
   ],
   "source": [
    "def isPrime(num):\n",
    "    if num == 2 or num == 3:\n",
    "        return True\n",
    "    if num % 2 == 0 or num < 2:\n",
    "        return False\n",
    "    for n in range(3, int(num ** 0.5) + 1, 2):   \n",
    "        if num % n == 0:\n",
    "            return False   \n",
    "    return True\n",
    "\n",
    "foundedPrimes = 0\n",
    "itr = 2\n",
    "primes = []\n",
    "while foundedPrimes < 50:\n",
    "    if isPrime(itr):\n",
    "        primes.append(itr)\n",
    "        foundedPrimes += 1\n",
    "    itr += 1\n",
    "    \n",
    "print(primes)\n",
    "    \n"
   ]
  },
  {
   "cell_type": "code",
   "execution_count": null,
   "id": "cff9e55e",
   "metadata": {},
   "outputs": [],
   "source": []
  }
 ],
 "metadata": {
  "kernelspec": {
   "display_name": "Python 3 (ipykernel)",
   "language": "python",
   "name": "python3"
  },
  "language_info": {
   "codemirror_mode": {
    "name": "ipython",
    "version": 3
   },
   "file_extension": ".py",
   "mimetype": "text/x-python",
   "name": "python",
   "nbconvert_exporter": "python",
   "pygments_lexer": "ipython3",
   "version": "3.11.2"
  }
 },
 "nbformat": 4,
 "nbformat_minor": 5
}
